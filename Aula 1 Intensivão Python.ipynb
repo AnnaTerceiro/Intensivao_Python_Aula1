{
 "cells": [
  {
   "cell_type": "code",
   "execution_count": 27,
   "id": "b6f62766",
   "metadata": {},
   "outputs": [],
   "source": [
    "import pyautogui as pygui\n",
    "import time \n",
    "import pyperclip as pyclip\n",
    "import pandas as pd\n",
    "\n",
    "pygui.PAUSE = 1\n",
    "#abrir navegador\n",
    "#Vou abrir apenas uma guia do navegador já que já está aberto por conta do Jupyter\n",
    "pygui.alert(\"Vai começar, aperte OK e não mexa em nada\")\n",
    "pygui.hotkey(\"ctrl\", \"t\")\n",
    "#A estrutura ao usarmos o pyautogui sempre é a mesma: pyautogui.algumcomando\n",
    "#A primeira parte indica que usaremos alguma função dessa biblioteca e a segunda são os métodos\n",
    "\n",
    "#abrir drive\n",
    "#ensinar aqui o write\n",
    "link = \"https://drive.google.com/drive/folders/14oLE59U1RqyRqlBbKpsyymW-mitvbtoh?usp=sharing\"\n",
    "pyclip.copy(link)\n",
    "pygui.hotkey(\"ctrl\", \"v\")\n",
    "pygui.press(\"enter\")\n",
    "\n",
    "#baixar base de dados do drive\n",
    "pygui.click(371, 351)\n",
    "pygui.click(1158, 156)\n",
    "pygui.click(999, 537)\n",
    "time.sleep(10)\n",
    "\n",
    "#Agora precisamos acessar a base de dados baixada no computador com a automação para as análises utilizando pandas\n",
    "df = pd.read_excel(r'C:/Users/annac/Downloads/Vendas - Dez.xlsx')\n",
    "\n",
    "#Nosso objetivo é criar um relatório que permita dizer o resultado das vendas\n",
    "#Faturamento somará todo o faturamento das vendas e se utiliza da coluna ['Valor Final']\n",
    "#Quantidade vendida somará toda a quantidade de produtos vendidos e se utiliza da coluna ['Quantidade']\n",
    "#sum() soma as colunas\n",
    "faturamento = df['Valor Final'].sum()\n",
    "qtde_produtos = df['Quantidade'].sum()\n",
    "\n",
    "#Com os indicadores calculados usarei o pyautogui novamente para criar códigos que nos permitam enviar esses indicadores via e-mail\n",
    "#Passos:\n",
    "#Abrir o gmail\n",
    "#Clicar em escrever novo e-mail\n",
    "#Escrever o destinatário\n",
    "#Selecionar o campo Assunto\n",
    "#Selecionar o campo corpo do e-mail e escrever o e-mail usando os indicadores calculados\n",
    "#Enviar e-mail\n",
    "pygui.hotkey(\"ctrl\", \"t\")\n",
    "pygui.write(\"mail.google.com\")\n",
    "pygui.press(\"enter\")\n",
    "time.sleep(5)\n",
    "pygui.click(27, 166)\n",
    "pygui.write(\"annacarolinasterceiro@gmail.com\")\n",
    "pygui.press(\"tab\")\n",
    "pygui.press(\"tab\")\n",
    "assunto = \"Relatório de Vendas de Ontem\"\n",
    "pyclip.copy(assunto)\n",
    "pygui.hotkey(\"ctrl\", \"v\")\n",
    "pygui.press(\"tab\")\n",
    "email = f\"\"\"Prezados, bom dia\n",
    "\n",
    "O faturamento de ontem foi de: R${faturamento:,.2f}\n",
    "A quantidade de produtos foi: {qtde_produtos:,}\n",
    "\n",
    "Abs \n",
    "Anna\"\"\"\n",
    "pyclip.copy(email)\n",
    "pygui.hotkey(\"ctrl\", \"v\")\n",
    "pygui.hotkey(\"ctrl\", \"enter\")"
   ]
  },
  {
   "cell_type": "code",
   "execution_count": 18,
   "id": "32a0d08f",
   "metadata": {},
   "outputs": [
    {
     "data": {
      "text/plain": [
       "Point(x=27, y=166)"
      ]
     },
     "execution_count": 18,
     "metadata": {},
     "output_type": "execute_result"
    }
   ],
   "source": [
    "#saber a posição em que o mouse precisa clicar\n",
    "#o time. é o tempo de mudar de aba e posicionar o mouse onde precisa ser clicado\n",
    "#time.sleep(7)\n",
    "#pygui.position()"
   ]
  },
  {
   "cell_type": "code",
   "execution_count": null,
   "id": "887704fa",
   "metadata": {},
   "outputs": [],
   "source": []
  }
 ],
 "metadata": {
  "kernelspec": {
   "display_name": "Python 3",
   "language": "python",
   "name": "python3"
  },
  "language_info": {
   "codemirror_mode": {
    "name": "ipython",
    "version": 3
   },
   "file_extension": ".py",
   "mimetype": "text/x-python",
   "name": "python",
   "nbconvert_exporter": "python",
   "pygments_lexer": "ipython3",
   "version": "3.8.8"
  }
 },
 "nbformat": 4,
 "nbformat_minor": 5
}
